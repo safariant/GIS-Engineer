{
 "cells": [
  {
   "cell_type": "code",
   "execution_count": 5,
   "id": "494d2ac9",
   "metadata": {},
   "outputs": [
    {
     "name": "stdout",
     "output_type": "stream",
     "text": [
      "     customer_id  latitude  longitude  log_latitude  log_longitude  \\\n",
      "0              0 -1.260637  36.844578     -1.260637      36.844578   \n",
      "1              0 -1.260637  36.844578     -1.260637      36.843887   \n",
      "2              0 -1.260637  36.844578     -1.260637      36.844578   \n",
      "3              2 -1.257844  36.806339     -1.257844      36.806339   \n",
      "4              2 -1.257844  36.806339     -1.256635      36.806339   \n",
      "..           ...       ...        ...           ...            ...   \n",
      "214           97 -1.230523  36.898365     -1.230523      36.893478   \n",
      "215           97 -1.230523  36.898365     -1.230523      36.898365   \n",
      "216           99 -1.265968  36.860104     -1.265968      36.860104   \n",
      "217           99 -1.265968  36.860104     -1.264669      36.855582   \n",
      "218           99 -1.265968  36.860104     -1.271663      36.860104   \n",
      "\n",
      "     coordinates_match  \n",
      "0                 True  \n",
      "1                False  \n",
      "2                 True  \n",
      "3                 True  \n",
      "4                False  \n",
      "..                 ...  \n",
      "214              False  \n",
      "215               True  \n",
      "216               True  \n",
      "217              False  \n",
      "218              False  \n",
      "\n",
      "[219 rows x 6 columns]\n"
     ]
    }
   ],
   "source": [
    "import pandas as pd\n",
    "\n",
    "# Load the customer_logs.csv and customer_locations.csv files\n",
    "customer_logs = pd.read_csv('C:/Users/user/Desktop/MGAS/Duplicates/customer_logs.csv')\n",
    "customer_locations = pd.read_csv('C:/Users/user/Desktop/MGAS/Duplicates/customer_locations.csv')\n",
    "\n",
    "# Join the datasets on the customer_id column\n",
    "joined_data = pd.merge(customer_logs, customer_locations, on='customer_id', how='inner')\n",
    "\n",
    "# Identify differences between log coordinates and initial location coordinates\n",
    "joined_data['coordinates_match'] = (joined_data['log_latitude'] == joined_data['latitude']) & (joined_data['log_longitude'] == joined_data['longitude'])\n",
    "\n",
    "# Display the results\n",
    "print(joined_data[['customer_id', 'latitude', 'longitude', 'log_latitude', 'log_longitude', 'coordinates_match']])\n",
    "\n",
    "# Save the joined DataFrame to a new CSV file\n",
    "joined_data.to_csv('C:/Users/user/Desktop/MGAS/Duplicates/joined_data.csv', index=False)\n"
   ]
  }
 ],
 "metadata": {
  "kernelspec": {
   "display_name": "Python 3 (ipykernel)",
   "language": "python",
   "name": "python3"
  },
  "language_info": {
   "codemirror_mode": {
    "name": "ipython",
    "version": 3
   },
   "file_extension": ".py",
   "mimetype": "text/x-python",
   "name": "python",
   "nbconvert_exporter": "python",
   "pygments_lexer": "ipython3",
   "version": "3.9.12"
  }
 },
 "nbformat": 4,
 "nbformat_minor": 5
}
