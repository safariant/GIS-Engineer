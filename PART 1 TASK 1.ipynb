{
 "cells": [
  {
   "cell_type": "code",
   "execution_count": 7,
   "id": "f499c464",
   "metadata": {},
   "outputs": [
    {
     "name": "stdout",
     "output_type": "stream",
     "text": [
      "Missing values:\n",
      " vehicle_id    0\n",
      "latitude      0\n",
      "longitude     0\n",
      "dtype: int64\n",
      "Duplicate rows:\n",
      " Empty DataFrame\n",
      "Columns: [vehicle_id, latitude, longitude]\n",
      "Index: []\n",
      "Invalid coordinates:\n",
      " Empty DataFrame\n",
      "Columns: [vehicle_id, latitude, longitude]\n",
      "Index: []\n",
      "\n",
      "Cleaning summary:\n",
      "Original rows: 89\n",
      "Rows after dropping missing values: 89\n",
      "Rows removed due to missing values: 0\n",
      "Rows after dropping duplicates: 89\n",
      "Rows removed due to duplicates: 0\n",
      "Rows after dropping rows with invalid coordinates: 89\n",
      "Rows removed due to invalid coordinates: 0\n"
     ]
    }
   ],
   "source": [
    "import pandas as pd\n",
    "import numpy as np\n",
    "\n",
    "# Load the spatial CSV file\n",
    "df = pd.read_csv('C:/Users/user/Desktop/MGAS/Duplicates/service_vehicle_routes.csv')\n",
    "\n",
    "# Check for missing values\n",
    "missing_values = df.isnull().sum()\n",
    "print(\"Missing values:\\n\", missing_values)\n",
    "\n",
    "# Drop rows with missing values\n",
    "df_cleaned = df.dropna()\n",
    "\n",
    "# Check for duplicate rows\n",
    "duplicate_rows = df_cleaned[df_cleaned.duplicated()]\n",
    "print(\"Duplicate rows:\\n\", duplicate_rows)\n",
    "\n",
    "# Drop duplicate rows\n",
    "df_cleaned = df_cleaned.drop_duplicates()\n",
    "\n",
    "# Check for invalid coordinates (latitude and longitude)\n",
    "invalid_coords = df_cleaned[(df_cleaned['latitude'] < -90) | (df_cleaned['latitude'] > 90) | \n",
    "                            (df_cleaned['longitude'] < -180) | (df_cleaned['longitude'] > 180)]\n",
    "print(\"Invalid coordinates:\\n\", invalid_coords)\n",
    "\n",
    "# Drop rows with invalid coordinates\n",
    "df_cleaned = df_cleaned[~((df_cleaned['latitude'] < -90) | (df_cleaned['latitude'] > 90) | \n",
    "                          (df_cleaned['longitude'] < -180) | (df_cleaned['longitude'] > 180))]\n",
    "\n",
    "# Save the cleaned DataFrame to a new CSV file\n",
    "df_cleaned.to_csv('path_to_your_cleaned_file.csv', index=False)\n",
    "\n",
    "# Print summary of cleaning process\n",
    "print(\"\\nCleaning summary:\")\n",
    "print(f\"Original rows: {len(df)}\")\n",
    "print(f\"Rows after dropping missing values: {len(df_cleaned)}\")\n",
    "print(f\"Rows removed due to missing values: {len(df) - len(df_cleaned)}\")\n",
    "print(f\"Rows after dropping duplicates: {len(df_cleaned.drop_duplicates())}\")\n",
    "print(f\"Rows removed due to duplicates: {len(df_cleaned) - len(df_cleaned.drop_duplicates())}\")\n",
    "print(f\"Rows after dropping rows with invalid coordinates: {len(df_cleaned)}\")\n",
    "print(f\"Rows removed due to invalid coordinates: {len(invalid_coords)}\")\n",
    "\n"
   ]
  },
  {
   "cell_type": "code",
   "execution_count": null,
   "id": "a0c348b7",
   "metadata": {},
   "outputs": [],
   "source": []
  },
  {
   "cell_type": "code",
   "execution_count": null,
   "id": "b4c7f563",
   "metadata": {},
   "outputs": [],
   "source": []
  },
  {
   "cell_type": "code",
   "execution_count": null,
   "id": "824dcb99",
   "metadata": {},
   "outputs": [],
   "source": [
    "\n"
   ]
  },
  {
   "cell_type": "code",
   "execution_count": null,
   "id": "eb956f85",
   "metadata": {},
   "outputs": [],
   "source": []
  }
 ],
 "metadata": {
  "kernelspec": {
   "display_name": "Python 3 (ipykernel)",
   "language": "python",
   "name": "python3"
  },
  "language_info": {
   "codemirror_mode": {
    "name": "ipython",
    "version": 3
   },
   "file_extension": ".py",
   "mimetype": "text/x-python",
   "name": "python",
   "nbconvert_exporter": "python",
   "pygments_lexer": "ipython3",
   "version": "3.9.12"
  }
 },
 "nbformat": 4,
 "nbformat_minor": 5
}
